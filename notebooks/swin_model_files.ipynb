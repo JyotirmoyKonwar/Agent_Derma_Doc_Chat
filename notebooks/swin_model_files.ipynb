{
 "cells": [
  {
   "cell_type": "code",
   "execution_count": 1,
   "id": "2eafb281",
   "metadata": {},
   "outputs": [
    {
     "name": "stderr",
     "output_type": "stream",
     "text": [
      "/Users/jyo/Desktop/Projects/MedAgent/.venv/lib/python3.14/site-packages/tqdm/auto.py:21: TqdmWarning: IProgress not found. Please update jupyter and ipywidgets. See https://ipywidgets.readthedocs.io/en/stable/user_install.html\n",
      "  from .autonotebook import tqdm as notebook_tqdm\n"
     ]
    }
   ],
   "source": [
    "import torch\n",
    "import os\n",
    "from transformers import SwinForImageClassification, AutoImageProcessor"
   ]
  },
  {
   "cell_type": "code",
   "execution_count": 2,
   "id": "a7ae75db",
   "metadata": {},
   "outputs": [],
   "source": [
    "# --- Configuration ---\n",
    "# 1. Define paths and names based on your training process\n",
    "BASE_MODEL_ID = \"microsoft/swin-large-patch4-window12-384-in22k\"\n",
    "PATH_TO_PTH_FILE = \"swin_skin_disease_model.pth\"\n",
    "LOCAL_SAVE_PATH = \"swin_model\""
   ]
  },
  {
   "cell_type": "code",
   "execution_count": 3,
   "id": "eb83f263",
   "metadata": {},
   "outputs": [
    {
     "name": "stdout",
     "output_type": "stream",
     "text": [
      "✅ Using Apple Metal Performance Shaders (MPS) device.\n"
     ]
    }
   ],
   "source": [
    "# 2. Define class labels (must match the labels used during training)\n",
    "CLASS_LABELS = [\n",
    "    '1. Enfeksiyonel', \n",
    "    '2. Ekzama', \n",
    "    '3. Akne', \n",
    "    '4. Pigment', \n",
    "    '5. Benign', \n",
    "    '6. Malign'\n",
    "]\n",
    "NUM_LABELS = len(CLASS_LABELS)\n",
    "\n",
    "# Create the label-to-ID mappings for the config.json\n",
    "id2label = {i: label for i, label in enumerate(CLASS_LABELS)}\n",
    "label2id = {label: i for i, label in enumerate(CLASS_LABELS)}\n",
    "\n",
    "# --- Device Setup (Optimized for M1) ---\n",
    "if torch.backends.mps.is_available():\n",
    "    device = torch.device(\"mps\")\n",
    "    print(\"✅ Using Apple Metal Performance Shaders (MPS) device.\")\n",
    "elif torch.cuda.is_available():\n",
    "    device = torch.device(\"cuda\")\n",
    "    print(\"✅ Using NVIDIA CUDA device.\")\n",
    "else:\n",
    "    device = torch.device(\"cpu\")\n",
    "    print(\"⚠️ Using CPU device. Inference/Packaging will be slower.\")"
   ]
  },
  {
   "cell_type": "code",
   "execution_count": 4,
   "id": "3d19f1a9",
   "metadata": {},
   "outputs": [
    {
     "name": "stdout",
     "output_type": "stream",
     "text": [
      "Loading base model structure: microsoft/swin-large-patch4-window12-384-in22k\n"
     ]
    },
    {
     "name": "stderr",
     "output_type": "stream",
     "text": [
      "Some weights of SwinForImageClassification were not initialized from the model checkpoint at microsoft/swin-large-patch4-window12-384-in22k and are newly initialized because the shapes did not match:\n",
      "- classifier.weight: found shape torch.Size([21841, 1536]) in the checkpoint and torch.Size([6, 1536]) in the model instantiated\n",
      "- classifier.bias: found shape torch.Size([21841]) in the checkpoint and torch.Size([6]) in the model instantiated\n",
      "You should probably TRAIN this model on a down-stream task to be able to use it for predictions and inference.\n"
     ]
    },
    {
     "name": "stdout",
     "output_type": "stream",
     "text": [
      "Loading weights from swin_skin_disease_model.pth...\n",
      "Loading base image processor...\n"
     ]
    },
    {
     "name": "stderr",
     "output_type": "stream",
     "text": [
      "Using a slow image processor as `use_fast` is unset and a slow processor was saved with this model. `use_fast=True` will be the default behavior in v4.52, even if the model was saved with a slow processor. This will result in minor differences in outputs. You'll still be able to use a slow processor with `use_fast=False`.\n"
     ]
    }
   ],
   "source": [
    "# --- Step 1 & 2: Load Base Model/Processor and Apply Weights ---\n",
    "try:\n",
    "    print(f\"Loading base model structure: {BASE_MODEL_ID}\")\n",
    "    model = SwinForImageClassification.from_pretrained(\n",
    "        BASE_MODEL_ID,\n",
    "        num_labels=NUM_LABELS,\n",
    "        ignore_mismatched_sizes=True  # Necessary because we are changing the head\n",
    "    ).to(device)\n",
    "\n",
    "    print(f\"Loading weights from {PATH_TO_PTH_FILE}...\")\n",
    "    model.load_state_dict(torch.load(PATH_TO_PTH_FILE, map_location=device))\n",
    "    model.eval() # Set model to evaluation mode\n",
    "\n",
    "    print(\"Loading base image processor...\")\n",
    "    image_processor = AutoImageProcessor.from_pretrained(BASE_MODEL_ID)\n",
    "\n",
    "except FileNotFoundError:\n",
    "    print(f\"\\nERROR: Weights file '{PATH_TO_PTH_FILE}' not found.\")\n",
    "    print(\"Please place the .pth file in the same directory as this script.\")\n",
    "    exit()\n",
    "except Exception as e:\n",
    "    print(f\"\\nERROR during model/processor loading: {e}\")\n",
    "    exit()"
   ]
  },
  {
   "cell_type": "code",
   "execution_count": 5,
   "id": "4837cccd",
   "metadata": {},
   "outputs": [
    {
     "name": "stdout",
     "output_type": "stream",
     "text": [
      "Adding label mappings to model configuration...\n"
     ]
    }
   ],
   "source": [
    "# --- Step 3: Update Model Configuration ---\n",
    "print(\"Adding label mappings to model configuration...\")\n",
    "model.config.id2label = id2label\n",
    "model.config.label2id = label2id"
   ]
  },
  {
   "cell_type": "code",
   "execution_count": 6,
   "id": "e1e50e2a",
   "metadata": {},
   "outputs": [
    {
     "name": "stdout",
     "output_type": "stream",
     "text": [
      "Saving complete model package to: swin_model\n",
      "\n",
      "--- Success! ---\n",
      "All necessary files have been created in the following directory:\n",
      "  /Users/jyo/Desktop/Projects/MedAgent/swin_model\n"
     ]
    }
   ],
   "source": [
    "# --- Step 4: Save All Necessary Files Locally ---\n",
    "print(f\"Saving complete model package to: {LOCAL_SAVE_PATH}\")\n",
    "\n",
    "# Create the directory if it doesn't exist\n",
    "os.makedirs(LOCAL_SAVE_PATH, exist_ok=True)\n",
    "\n",
    "# Save the model (this generates config.json and pytorch_model.bin)\n",
    "model.save_pretrained(LOCAL_SAVE_PATH)\n",
    "\n",
    "# Save the processor (this generates preprocessor_config.json)\n",
    "image_processor.save_pretrained(LOCAL_SAVE_PATH)\n",
    "\n",
    "print(\"\\n--- Success! ---\")\n",
    "print(\"All necessary files have been created in the following directory:\")\n",
    "print(f\"  {os.path.abspath(LOCAL_SAVE_PATH)}\")"
   ]
  },
  {
   "cell_type": "code",
   "execution_count": 7,
   "id": "beb4bb76",
   "metadata": {},
   "outputs": [
    {
     "name": "stdout",
     "output_type": "stream",
     "text": [
      "\n",
      "--- Verification Step: Testing Local Load ---\n",
      "Local model loading and inference test successful.\n",
      "Test Prediction: 1. Enfeksiyonel (Index: 0)\n"
     ]
    }
   ],
   "source": [
    "# --- Step 5: Verification (Optional but recommended) ---\n",
    "print(\"\\n--- Verification Step: Testing Local Load ---\")\n",
    "try:\n",
    "    # Load from the newly created local folder\n",
    "    reloaded_processor = AutoImageProcessor.from_pretrained(LOCAL_SAVE_PATH)\n",
    "    reloaded_model = SwinForImageClassification.from_pretrained(LOCAL_SAVE_PATH).to(device)\n",
    "    \n",
    "    # Create a dummy input tensor (since we don't have a real image here)\n",
    "    dummy_input = torch.randn(1, 3, 384, 384).to(device)\n",
    "    \n",
    "    with torch.no_grad():\n",
    "        outputs = reloaded_model(dummy_input).logits\n",
    "        \n",
    "    predicted_idx = torch.argmax(outputs, dim=1).item()\n",
    "    predicted_label = reloaded_model.config.id2label[predicted_idx]\n",
    "\n",
    "    print(\"Local model loading and inference test successful.\")\n",
    "    print(f\"Test Prediction: {predicted_label} (Index: {predicted_idx})\")\n",
    "\n",
    "except Exception as e:\n",
    "    print(f\"Verification FAILED. Could not load or test the saved model: {e}\")"
   ]
  },
  {
   "cell_type": "code",
   "execution_count": null,
   "id": "7c79231e",
   "metadata": {},
   "outputs": [],
   "source": []
  },
  {
   "cell_type": "code",
   "execution_count": null,
   "id": "89eda0b5",
   "metadata": {},
   "outputs": [],
   "source": []
  },
  {
   "cell_type": "code",
   "execution_count": null,
   "id": "258f0cf1",
   "metadata": {},
   "outputs": [],
   "source": []
  }
 ],
 "metadata": {
  "kernelspec": {
   "display_name": "MedAgent",
   "language": "python",
   "name": "python3"
  },
  "language_info": {
   "codemirror_mode": {
    "name": "ipython",
    "version": 3
   },
   "file_extension": ".py",
   "mimetype": "text/x-python",
   "name": "python",
   "nbconvert_exporter": "python",
   "pygments_lexer": "ipython3",
   "version": "3.14.0"
  }
 },
 "nbformat": 4,
 "nbformat_minor": 5
}
